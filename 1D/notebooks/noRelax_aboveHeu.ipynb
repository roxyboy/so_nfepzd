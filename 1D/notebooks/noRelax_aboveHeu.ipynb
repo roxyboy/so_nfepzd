{
 "cells": [
  {
   "cell_type": "code",
   "execution_count": 1,
   "metadata": {
    "collapsed": true
   },
   "outputs": [],
   "source": [
    "import numpy as np\n",
    "import xarray as xr\n",
    "import os.path as op\n",
    "import xgcm\n",
    "import matplotlib.pyplot as plt\n",
    "%matplotlib inline"
   ]
  },
  {
   "cell_type": "code",
   "execution_count": 2,
   "metadata": {
    "collapsed": true
   },
   "outputs": [],
   "source": [
    "ddir = '/rigel/ocp/users/tu2140/MITgcm/1D_Southern-Ocean/runs/noRelax_aboveHeu/'\n",
    "subdir = 'SANT_20years_20171022_0001'"
   ]
  },
  {
   "cell_type": "code",
   "execution_count": 40,
   "metadata": {
    "scrolled": true
   },
   "outputs": [
    {
     "data": {
      "text/plain": [
       "<xarray.Dataset>\n",
       "Dimensions:  (X: 1, Xp1: 2, Y: 1, Yp1: 2, Z: 77, Zl: 77, Zp1: 78, Zu: 77)\n",
       "Coordinates:\n",
       "  * Z        (Z) float64 -5.0 -15.0 -25.0 -35.0 -45.0 -55.0 -65.0 -75.0 ...\n",
       "  * Zp1      (Zp1) float64 0.0 -10.0 -20.0 -30.0 -40.0 -50.0 -60.0 -70.0 ...\n",
       "  * Zu       (Zu) float64 -10.0 -20.0 -30.0 -40.0 -50.0 -60.0 -70.0 -80.0 ...\n",
       "  * Zl       (Zl) float64 0.0 -10.0 -20.0 -30.0 -40.0 -50.0 -60.0 -70.0 ...\n",
       "  * X        (X) float64 0.5\n",
       "  * Y        (Y) float64 -44.5\n",
       "  * Xp1      (Xp1) float64 0.0 1.0\n",
       "  * Yp1      (Yp1) float64 -45.0 -44.0\n",
       "Data variables:\n",
       "    RC       (Z) float64 -5.0 -15.0 -25.0 -35.0 -45.0 -55.0 -65.0 -75.0 ...\n",
       "    RF       (Zp1) float64 0.0 -10.0 -20.0 -30.0 -40.0 -50.0 -60.0 -70.0 ...\n",
       "    RU       (Zu) float64 -10.0 -20.0 -30.0 -40.0 -50.0 -60.0 -70.0 -80.0 ...\n",
       "    RL       (Zl) float64 0.0 -10.0 -20.0 -30.0 -40.0 -50.0 -60.0 -70.0 ...\n",
       "    drC      (Z) float64 5.0 10.0 10.0 10.0 10.0 10.0 10.0 10.0 10.0 10.0 ...\n",
       "    drF      (Z) float64 10.0 10.0 10.0 10.0 10.0 10.0 10.0 10.0 10.0 10.0 ...\n",
       "    XC       (Y, X) float64 0.5\n",
       "    YC       (Y, X) float64 -44.5\n",
       "    XG       (Yp1, Xp1) float64 0.0 1.0 0.0 1.0\n",
       "    YG       (Yp1, Xp1) float64 -45.0 -45.0 -44.0 -44.0\n",
       "    dxC      (Y, Xp1) float64 7.93e+04 7.93e+04\n",
       "    dyC      (Yp1, X) float64 1.112e+05 1.112e+05\n",
       "    dxF      (Y, X) float64 7.93e+04\n",
       "    dyF      (Y, X) float64 1.112e+05\n",
       "    dxG      (Yp1, X) float64 7.861e+04 7.997e+04\n",
       "    dyG      (Y, Xp1) float64 1.112e+05 1.112e+05\n",
       "    dxV      (Yp1, Xp1) float64 7.861e+04 7.861e+04 7.997e+04 7.997e+04\n",
       "    dyU      (Yp1, Xp1) float64 1.112e+05 1.112e+05 1.112e+05 1.112e+05\n",
       "    rA       (Y, X) float64 8.816e+09\n",
       "    rAw      (Y, Xp1) float64 8.816e+09 8.816e+09\n",
       "    rAs      (Yp1, X) float64 8.74e+09 8.891e+09\n",
       "    rAz      (Yp1, Xp1) float64 8.74e+09 8.74e+09 8.891e+09 8.891e+09\n",
       "    fCori    (Y, X) float64 -0.0001022\n",
       "    fCoriG   (Yp1, Xp1) float64 -0.0001031 -0.0001031 -0.0001013 -0.0001013\n",
       "    R_low    (Y, X) float64 -6.1e+03\n",
       "    Ro_surf  (Y, X) float64 0.0\n",
       "    Depth    (Y, X) float64 6.1e+03\n",
       "    HFacC    (Z, Y, X) float64 1.0 1.0 1.0 1.0 1.0 1.0 1.0 1.0 1.0 1.0 1.0 ...\n",
       "    HFacW    (Z, Y, Xp1) float64 1.0 1.0 1.0 1.0 1.0 1.0 1.0 1.0 1.0 1.0 1.0 ...\n",
       "    HFacS    (Z, Yp1, X) float64 1.0 1.0 1.0 1.0 1.0 1.0 1.0 1.0 1.0 1.0 1.0 ...\n",
       "Attributes:\n",
       "    MITgcm_version:  checkpoint63n\n",
       "    build_user:      tu2140\n",
       "    build_host:      node216\n",
       "    build_date:      Sun Oct 22 23:21:26 EDT 2017\n",
       "    MITgcm_URL:      http://mitgcm.org\n",
       "    MITgcm_tag_id:   1.1667 2012/06/08\n",
       "    MITgcm_mnc_ver:  0.9\n",
       "    tile_number:     1\n",
       "    bi:              1\n",
       "    bj:              1\n",
       "    sNx:             1\n",
       "    sNy:             1\n",
       "    OLx:             2\n",
       "    OLy:             2\n",
       "    nSx:             1\n",
       "    nSy:             1\n",
       "    nPx:             1\n",
       "    nPy:             1\n",
       "    Nx:              1\n",
       "    Ny:              1\n",
       "    Nr:              77"
      ]
     },
     "execution_count": 40,
     "metadata": {},
     "output_type": "execute_result"
    }
   ],
   "source": [
    "ds_grid = xr.open_dataset(op.join(ddir, subdir, 'grid.t001.nc'))\n",
    "ds_grid['Z'].attrs['axis']='z'\n",
    "ds_grid['Zl'].attrs['axis']='z'\n",
    "ds_grid['Zl'].attrs['c_grid_axis_shift'] = -.5\n",
    "ds_grid['Zu'].attrs['axis']='z'\n",
    "ds_grid['Zu'].attrs['c_grid_axis_shift'] = .5\n",
    "ds_grid"
   ]
  },
  {
   "cell_type": "code",
   "execution_count": 59,
   "metadata": {
    "collapsed": true
   },
   "outputs": [],
   "source": [
    "Z = ds_grid.Z\n",
    "Zl = ds_grid.Zl"
   ]
  },
  {
   "cell_type": "code",
   "execution_count": 4,
   "metadata": {},
   "outputs": [
    {
     "data": {
      "text/plain": [
       "<xarray.DataArray (Z: 77)>\n",
       "array([  8.815971e+09,   8.815971e+09,   8.815971e+09,   8.815971e+09,\n",
       "         8.815971e+09,   8.815971e+09,   8.815971e+09,   8.815971e+09,\n",
       "         8.815971e+09,   8.815971e+09,   8.815971e+09,   8.815971e+09,\n",
       "         8.815971e+09,   8.815971e+09,   8.815971e+09,   8.815971e+09,\n",
       "         8.815971e+09,   8.815971e+09,   8.815971e+09,   8.815971e+09,\n",
       "         8.815971e+09,   8.815971e+09,   8.815971e+09,   8.815971e+09,\n",
       "         8.815971e+09,   8.815971e+09,   8.815971e+09,   8.815971e+09,\n",
       "         8.815971e+09,   8.815971e+09,   8.815971e+09,   8.815971e+09,\n",
       "         8.815971e+09,   8.815971e+09,   8.815971e+09,   8.815971e+09,\n",
       "         8.815971e+09,   8.815971e+09,   8.815971e+09,   8.815971e+09,\n",
       "         8.815971e+09,   8.815971e+09,   8.815971e+09,   8.815971e+09,\n",
       "         8.815971e+09,   8.815971e+09,   8.815971e+09,   8.815971e+09,\n",
       "         8.815971e+09,   8.815971e+09,   8.815971e+09,   8.815971e+09,\n",
       "         8.815971e+09,   8.815971e+09,   8.815971e+09,   8.815971e+09,\n",
       "         8.815971e+09,   8.815971e+09,   8.815971e+09,   8.815971e+09,\n",
       "         8.815971e+09,   8.815971e+09,   8.815971e+09,   8.815971e+09,\n",
       "         8.815971e+09,   8.815971e+09,   8.815971e+09,   8.815971e+09,\n",
       "         8.815971e+09,   8.815971e+09,   8.815971e+09,   8.815971e+09,\n",
       "         8.815971e+09,   8.815971e+09,   8.815971e+09,   8.815971e+09,\n",
       "         8.815971e+09])\n",
       "Coordinates:\n",
       "    X        float64 0.5\n",
       "    Y        float64 -44.5\n",
       "  * Z        (Z) float64 -5.0 -15.0 -25.0 -35.0 -45.0 -55.0 -65.0 -75.0 ..."
      ]
     },
     "execution_count": 4,
     "metadata": {},
     "output_type": "execute_result"
    }
   ],
   "source": [
    "area = (ds_grid.rA * ds_grid.HFacC)[0,0]\n",
    "area"
   ]
  },
  {
   "cell_type": "code",
   "execution_count": 41,
   "metadata": {},
   "outputs": [
    {
     "data": {
      "text/plain": [
       "<xgcm.Grid>\n",
       "z Axis (not periodic):\n",
       "  * center   Z (77) --> left\n",
       "  * left     Zl (77) --> center\n",
       "  * right    Zu (77) --> center"
      ]
     },
     "execution_count": 41,
     "metadata": {},
     "output_type": "execute_result"
    }
   ],
   "source": [
    "grid = xgcm.Grid(ds_grid, periodic=False)\n",
    "grid"
   ]
  },
  {
   "cell_type": "code",
   "execution_count": 8,
   "metadata": {},
   "outputs": [
    {
     "data": {
      "text/plain": [
       "<xarray.Dataset>\n",
       "Dimensions:      (T: 450, X: 1, Y: 1, Z: 77)\n",
       "Coordinates:\n",
       "  * T            (T) float64 3.11e+08 3.117e+08 3.124e+08 3.131e+08 ...\n",
       "  * X            (X) float64 0.5\n",
       "  * Y            (Y) float64 -44.5\n",
       "  * Z            (Z) float64 -5.0 -15.0 -25.0 -35.0 -45.0 -55.0 -65.0 -75.0 ...\n",
       "Data variables:\n",
       "    iter         (T) int32 86400 86592 86784 86976 87168 87360 87552 87744 ...\n",
       "    diag_levels  (Z) float64 1.0 2.0 3.0 4.0 5.0 6.0 7.0 8.0 9.0 10.0 11.0 ...\n",
       "    TRAC03       (T, Z, Y, X) float32 0.00010201 0.000101985 8.88242e-05 ...\n",
       "    TRAC07       (T, Z, Y, X) float32 0.000126627 0.000126638 0.000133799 ...\n",
       "    TRAC10       (T, Z, Y, X) float32 8.80176e-06 8.80518e-06 1.11403e-05 ...\n",
       "    TRAC14       (T, Z, Y, X) float32 1.44385e-11 1.44401e-11 1.55165e-11 ...\n",
       "    TRAC18       (T, Z, Y, X) float32 7.72247e-08 9.13863e-08 1.70299e-07 ...\n",
       "Attributes:\n",
       "    MITgcm_version:  checkpoint63n\n",
       "    build_user:      tu2140\n",
       "    build_host:      node216\n",
       "    build_date:      Sun Oct 22 23:21:26 EDT 2017\n",
       "    MITgcm_URL:      http://mitgcm.org\n",
       "    MITgcm_tag_id:   1.1667 2012/06/08\n",
       "    MITgcm_mnc_ver:  0.9\n",
       "    tile_number:     1\n",
       "    bi:              1\n",
       "    bj:              1\n",
       "    sNx:             1\n",
       "    sNy:             1\n",
       "    OLx:             2\n",
       "    OLy:             2\n",
       "    nSx:             1\n",
       "    nSy:             1\n",
       "    nPx:             1\n",
       "    nPy:             1\n",
       "    Nx:              1\n",
       "    Ny:              1\n",
       "    Nr:              77"
      ]
     },
     "execution_count": 8,
     "metadata": {},
     "output_type": "execute_result"
    }
   ],
   "source": [
    "ds = xr.open_dataset(op.join(ddir, subdir, 'Fe_snap.0000000000.t001.nc')\n",
    "                    ).isel(T=slice(450,900)).rename({'Zmd000077':'Z'}, inplace=True)\n",
    "ds.coords['Z'] = ds_grid.Z\n",
    "ds"
   ]
  },
  {
   "cell_type": "code",
   "execution_count": 9,
   "metadata": {
    "collapsed": true
   },
   "outputs": [],
   "source": [
    "FeT_snap = ds.TRAC03[:,:,0,0]\n",
    "DOFe_snap = ds.TRAC07[:,:,0,0]\n",
    "Z1Fe_snap = ds.TRAC10[:,:,0,0]\n",
    "Z2Fe_snap = ds.TRAC14[:,:,0,0]\n",
    "POFe_snap = ds.TRAC18[:,:,0,0]"
   ]
  },
  {
   "cell_type": "code",
   "execution_count": 10,
   "metadata": {
    "collapsed": true
   },
   "outputs": [],
   "source": [
    "dt = 8*24*3600.\n",
    "dFeTdt = FeT_snap.diff(dim='T')/dt\n",
    "dDOFedt = DOFe_snap.diff(dim='T')/dt\n",
    "dZ1Fedt = Z1Fe_snap.diff(dim='T')/dt\n",
    "dZ2Fedt = Z2Fe_snap.diff(dim='T')/dt\n",
    "dPOFedt = POFe_snap.diff(dim='T')/dt"
   ]
  },
  {
   "cell_type": "code",
   "execution_count": 42,
   "metadata": {
    "scrolled": true
   },
   "outputs": [
    {
     "data": {
      "text/plain": [
       "<xarray.Dataset>\n",
       "Dimensions:  (X: 1, Xp1: 2, Y: 1, Yp1: 2, Z: 77, Zl: 77, Zp1: 78, Zu: 77)\n",
       "Coordinates:\n",
       "  * Z        (Z) float64 -5.0 -15.0 -25.0 -35.0 -45.0 -55.0 -65.0 -75.0 ...\n",
       "  * Zp1      (Zp1) float64 0.0 -10.0 -20.0 -30.0 -40.0 -50.0 -60.0 -70.0 ...\n",
       "  * Zu       (Zu) float64 -10.0 -20.0 -30.0 -40.0 -50.0 -60.0 -70.0 -80.0 ...\n",
       "  * Zl       (Zl) float64 0.0 -10.0 -20.0 -30.0 -40.0 -50.0 -60.0 -70.0 ...\n",
       "  * X        (X) float64 0.5\n",
       "  * Y        (Y) float64 -44.5\n",
       "  * Xp1      (Xp1) float64 0.0 1.0\n",
       "  * Yp1      (Yp1) float64 -45.0 -44.0\n",
       "Data variables:\n",
       "    RC       (Z) float64 -5.0 -15.0 -25.0 -35.0 -45.0 -55.0 -65.0 -75.0 ...\n",
       "    RF       (Zp1) float64 0.0 -10.0 -20.0 -30.0 -40.0 -50.0 -60.0 -70.0 ...\n",
       "    RU       (Zu) float64 -10.0 -20.0 -30.0 -40.0 -50.0 -60.0 -70.0 -80.0 ...\n",
       "    RL       (Zl) float64 0.0 -10.0 -20.0 -30.0 -40.0 -50.0 -60.0 -70.0 ...\n",
       "    drC      (Z) float64 5.0 10.0 10.0 10.0 10.0 10.0 10.0 10.0 10.0 10.0 ...\n",
       "    drF      (Z) float64 10.0 10.0 10.0 10.0 10.0 10.0 10.0 10.0 10.0 10.0 ...\n",
       "    XC       (Y, X) float64 0.5\n",
       "    YC       (Y, X) float64 -44.5\n",
       "    XG       (Yp1, Xp1) float64 0.0 1.0 0.0 1.0\n",
       "    YG       (Yp1, Xp1) float64 -45.0 -45.0 -44.0 -44.0\n",
       "    dxC      (Y, Xp1) float64 7.93e+04 7.93e+04\n",
       "    dyC      (Yp1, X) float64 1.112e+05 1.112e+05\n",
       "    dxF      (Y, X) float64 7.93e+04\n",
       "    dyF      (Y, X) float64 1.112e+05\n",
       "    dxG      (Yp1, X) float64 7.861e+04 7.997e+04\n",
       "    dyG      (Y, Xp1) float64 1.112e+05 1.112e+05\n",
       "    dxV      (Yp1, Xp1) float64 7.861e+04 7.861e+04 7.997e+04 7.997e+04\n",
       "    dyU      (Yp1, Xp1) float64 1.112e+05 1.112e+05 1.112e+05 1.112e+05\n",
       "    rA       (Y, X) float64 8.816e+09\n",
       "    rAw      (Y, Xp1) float64 8.816e+09 8.816e+09\n",
       "    rAs      (Yp1, X) float64 8.74e+09 8.891e+09\n",
       "    rAz      (Yp1, Xp1) float64 8.74e+09 8.74e+09 8.891e+09 8.891e+09\n",
       "    fCori    (Y, X) float64 -0.0001022\n",
       "    fCoriG   (Yp1, Xp1) float64 -0.0001031 -0.0001031 -0.0001013 -0.0001013\n",
       "    R_low    (Y, X) float64 -6.1e+03\n",
       "    Ro_surf  (Y, X) float64 0.0\n",
       "    Depth    (Y, X) float64 6.1e+03\n",
       "    HFacC    (Z, Y, X) float64 1.0 1.0 1.0 1.0 1.0 1.0 1.0 1.0 1.0 1.0 1.0 ...\n",
       "    HFacW    (Z, Y, Xp1) float64 1.0 1.0 1.0 1.0 1.0 1.0 1.0 1.0 1.0 1.0 1.0 ...\n",
       "    HFacS    (Z, Yp1, X) float64 1.0 1.0 1.0 1.0 1.0 1.0 1.0 1.0 1.0 1.0 1.0 ...\n",
       "Attributes:\n",
       "    MITgcm_version:  checkpoint63n\n",
       "    build_user:      tu2140\n",
       "    build_host:      node216\n",
       "    build_date:      Sun Oct 22 23:21:26 EDT 2017\n",
       "    MITgcm_URL:      http://mitgcm.org\n",
       "    MITgcm_tag_id:   1.1667 2012/06/08\n",
       "    MITgcm_mnc_ver:  0.9\n",
       "    tile_number:     1\n",
       "    bi:              1\n",
       "    bj:              1\n",
       "    sNx:             1\n",
       "    sNy:             1\n",
       "    OLx:             2\n",
       "    OLy:             2\n",
       "    nSx:             1\n",
       "    nSy:             1\n",
       "    nPx:             1\n",
       "    nPy:             1\n",
       "    Nx:              1\n",
       "    Ny:              1\n",
       "    Nr:              77"
      ]
     },
     "execution_count": 42,
     "metadata": {},
     "output_type": "execute_result"
    }
   ],
   "source": [
    "grid._ds"
   ]
  },
  {
   "cell_type": "code",
   "execution_count": 46,
   "metadata": {},
   "outputs": [
    {
     "data": {
      "text/plain": [
       "<xarray.DataArray 'Zl' (Zl: 77)>\n",
       "array([    0.,   -10.,   -20.,   -30.,   -40.,   -50.,   -60.,   -70.,   -80.,\n",
       "         -90.,  -100.,  -110.,  -120.,  -130.,  -140.,  -150.,  -160.,  -170.,\n",
       "        -180.,  -190.,  -200.,  -210.,  -220.,  -230.,  -240.,  -250.,  -350.,\n",
       "        -450.,  -550.,  -650.,  -750.,  -850.,  -950., -1050., -1150., -1250.,\n",
       "       -1350., -1450., -1550., -1650., -1750., -1850., -1950., -2050., -2150.,\n",
       "       -2250., -2350., -2450., -2550., -2650., -2750., -2850., -2950., -3050.,\n",
       "       -3150., -3250., -3350., -3450., -3550., -3650., -3750., -3850., -3950.,\n",
       "       -4050., -4150., -4250., -4350., -4450., -4550., -4650., -4750., -4850.,\n",
       "       -4950., -5050., -5150., -5250., -5350.])\n",
       "Coordinates:\n",
       "  * Zl       (Zl) float64 0.0 -10.0 -20.0 -30.0 -40.0 -50.0 -60.0 -70.0 ...\n",
       "Attributes:\n",
       "    long_name:          vertical coordinate of upper cell interface\n",
       "    units:              meters\n",
       "    positive:           up\n",
       "    axis:               z\n",
       "    c_grid_axis_shift:  -0.5"
      ]
     },
     "execution_count": 46,
     "metadata": {},
     "output_type": "execute_result"
    }
   ],
   "source": [
    "ds_grid.Zl"
   ]
  },
  {
   "cell_type": "code",
   "execution_count": 73,
   "metadata": {
    "scrolled": true
   },
   "outputs": [
    {
     "data": {
      "text/plain": [
       "<xarray.DataArray (T: 450, Z: 77)>\n",
       "array([[  8.449359e-13,   4.950704e-13,  -9.517501e-13, ...,  -2.582498e-17,\n",
       "         -2.261400e-17,  -9.189517e-19],\n",
       "       [  1.044874e-12,   4.601922e-13,  -1.008532e-12, ...,  -2.631069e-17,\n",
       "         -2.324182e-17,  -9.399812e-19],\n",
       "       [  1.690767e-12,   4.361033e-13,  -1.637456e-12, ...,  -2.677887e-17,\n",
       "         -2.391007e-17,  -9.614153e-19],\n",
       "       ..., \n",
       "       [  4.288727e-12,  -2.110432e-12,  -2.437506e-12, ...,  -1.732633e-17,\n",
       "         -1.359476e-17,  -5.794387e-19],\n",
       "       [  2.302565e-12,  -8.415438e-13,  -1.667393e-12, ...,  -1.715273e-17,\n",
       "         -1.364948e-17,  -5.771963e-19],\n",
       "       [  1.269017e-12,  -2.116591e-13,  -1.157755e-12, ...,  -1.696417e-17,\n",
       "         -1.363147e-17,  -5.733160e-19]])\n",
       "Coordinates:\n",
       "  * T        (T) float64 3.117e+08 3.124e+08 3.131e+08 3.138e+08 3.145e+08 ...\n",
       "  * Z        (Z) float64 -5.0 -15.0 -25.0 -35.0 -45.0 -55.0 -65.0 -75.0 ...\n",
       "    X        float64 0.5\n",
       "    Y        float64 -44.5"
      ]
     },
     "execution_count": 73,
     "metadata": {},
     "output_type": "execute_result"
    }
   ],
   "source": [
    "kwargs = {'boundary':'fill'}\n",
    "\n",
    "ds = xr.open_dataset(op.join(ddir, subdir, 'FeT_tave.0000000000.t001.nc')\n",
    "                    ).isel(T=slice(450,900)).rename({'Zmd000077':'Z', 'Zld000077':'Zl'}, \n",
    "                                                    inplace=True)\n",
    "ds.coords['Z'] = ds_grid.Z; ds.coords['Zl'] = ds_grid.Zl\n",
    "\n",
    "FeT = ds.TRAC03[:,:,0,0]\n",
    "ddfFeTdz = grid.diff(ds.DFrITr03[:,:,0,0],axis='z',**kwargs)/grid.diff(ds.Zl,axis='z',**kwargs)/area\n",
    "ddfFeTdz"
   ]
  },
  {
   "cell_type": "code",
   "execution_count": 74,
   "metadata": {},
   "outputs": [],
   "source": [
    "ds = xr.open_dataset(op.join(ddir, subdir, 'DOFe_tave.0000000000.t001.nc')\n",
    "                    ).isel(T=slice(450,900)).rename({'Zmd000077':'Z', 'Zld000077':'Zl'}, \n",
    "                                                    inplace=True)\n",
    "ds.coords['Z'] = ds_grid.Z; ds.coords['Zl'] = ds_grid.Zl\n",
    "DOFe = ds.TRAC07[:,:,0,0]\n",
    "ddfDOFedz = grid.diff(ds.DFrITr07[:,:,0,0],'z',**kwargs)/grid.diff(ds.Zl,'z',**kwargs)/area\n",
    "\n",
    "ds = xr.open_dataset(op.join(ddir, subdir, 'ZOO1Fe_tave.0000000000.t001.nc')\n",
    "                    ).isel(T=slice(450,900)).rename({'Zmd000077':'Z', 'Zld000077':'Zl'}, \n",
    "                                                    inplace=True)\n",
    "ds.coords['Z'] = ds_grid.Z; ds.coords['Zl'] = ds_grid.Zl\n",
    "Z1Fe = ds.TRAC10[:,:,0,0]\n",
    "ddfZ1Fedz = grid.diff(ds.DFrITr10[:,:,0,0],'z',**kwargs)/grid.diff(ds.Zl,'z',**kwargs)/area\n",
    "\n",
    "ds = xr.open_dataset(op.join(ddir, subdir, 'ZOO2Fe_tave.0000000000.t001.nc')\n",
    "                    ).isel(T=slice(450,900)).rename({'Zmd000077':'Z', 'Zld000077':'Zl'}, \n",
    "                                                    inplace=True)\n",
    "ds.coords['Z'] = ds_grid.Z; ds.coords['Zl'] = ds_grid.Zl \n",
    "Z2Fe = ds.TRAC14[:,:,0,0]\n",
    "ddfZ2Fedz = grid.diff(ds.DFrITr14[:,:,0,0],'z',**kwargs)/grid.diff(ds.Zl,'z',**kwargs)/area\n",
    "\n",
    "ds = xr.open_dataset(op.join(ddir, subdir, 'POFe_tave.0000000000.t001.nc')\n",
    "                    ).isel(T=slice(450,900)).rename({'Zmd000077':'Z', 'Zld000077':'Zl'}, \n",
    "                                                    inplace=True)\n",
    "ds.coords['Z'] = ds_grid.Z; ds.coords['Zl'] = ds_grid.Zl \n",
    "POFe = ds.TRAC18[:,:,0,0]\n",
    "ddfPOFedz = grid.diff(ds.DFrITr18[:,:,0,0],'z',**kwargs)/grid.diff(ds.Zl,'z',**kwargs)/area"
   ]
  },
  {
   "cell_type": "code",
   "execution_count": 67,
   "metadata": {
    "collapsed": true
   },
   "outputs": [],
   "source": [
    "nz = 20"
   ]
  },
  {
   "cell_type": "code",
   "execution_count": 72,
   "metadata": {},
   "outputs": [
    {
     "data": {
      "image/png": "[encoded data removed]",
      "text/plain": [
       "<matplotlib.figure.Figure at 0x2aaae96832b0>"
      ]
     },
     "metadata": {},
     "output_type": "display_data"
    }
   ],
   "source": [
    "fig = plt.figure(figsize=(15,6))\n",
    "ax1 = plt.subplot2grid((3,3), (0,0), rowspan=1)\n",
    "ax2 = plt.subplot2grid((3,3), (1,0), rowspan=2)\n",
    "ax3 = plt.subplot2grid((3,3), (0,1), rowspan=1)\n",
    "ax4 = plt.subplot2grid((3,3), (1,1), rowspan=2)\n",
    "ax5 = plt.subplot2grid((3,3), (0,2), rowspan=1)\n",
    "ax6 = plt.subplot2grid((3,3), (1,2), rowspan=2)\n",
    "\n",
    "\n",
    "ax1.plot(FeT.mean(dim='T')[:nz], Z[:nz])\n",
    "ax1.plot(DOFe.mean(dim='T')[:nz], Z[:nz])\n",
    "ax1.plot(POFe.mean(dim='T')[:nz], Z[:nz])\n",
    "ax1.plot(Z1Fe.mean(dim='T')[:nz], Z[:nz])\n",
    "ax1.plot(Z2Fe.mean(dim='T')[:nz], Z[:nz])\n",
    "\n",
    "ax3.plot(dFeTdt.mean(dim='T')[:nz], Z[:nz])\n",
    "ax3.plot(dDOFedt.mean(dim='T')[:nz], Z[:nz])\n",
    "ax3.plot(dPOFedt.mean(dim='T')[:nz], Z[:nz])\n",
    "ax3.plot(dZ1Fedt.mean(dim='T')[:nz], Z[:nz])\n",
    "ax3.plot(dZ2Fedt.mean(dim='T')[:nz], Z[:nz])\n",
    "\n",
    "ax5.plot(ddfFeTdz.mean(dim='T')[:nz], Z[:nz])\n",
    "ax5.plot(ddfDOFedz.mean(dim='T')[:nz], Z[:nz])\n",
    "ax5.plot(ddfPOFedz.mean(dim='T')[:nz], Z[:nz])\n",
    "ax5.plot(ddfZ1Fedz.mean(dim='T')[:nz], Z[:nz])\n",
    "ax5.plot(ddfZ2Fedz.mean(dim='T')[:nz], Z[:nz])\n",
    "\n",
    "\n",
    "ax2.plot(FeT.mean(dim='T')[nz:], Z[nz:], label=r\"$FeT$\")\n",
    "ax2.plot(DOFe.mean(dim='T')[nz:], Z[nz:], label=r\"$DOFe$\")\n",
    "ax2.plot(POFe.mean(dim='T')[nz:], Z[nz:], label=r\"$POFe$\")\n",
    "ax2.plot(Z1Fe.mean(dim='T')[nz:], Z[nz:], label=r\"$Z1Fe$\")\n",
    "ax2.plot(Z2Fe.mean(dim='T')[nz:], Z[nz:], label=r\"$Z2Fe$\")\n",
    "\n",
    "ax4.plot(dFeTdt.mean(dim='T')[nz:], Z[nz:], label=r\"$\\partial_t FeT$\")\n",
    "ax4.plot(dDOFedt.mean(dim='T')[nz:], Z[nz:], label=r\"$\\partial_t DOFe$\")\n",
    "ax4.plot(dPOFedt.mean(dim='T')[nz:], Z[nz:], label=r\"$\\partial_t POFe$\")\n",
    "ax4.plot(dZ1Fedt.mean(dim='T')[nz:], Z[nz:], label=r\"$\\partial_t Z1Fe$\")\n",
    "ax4.plot(dZ2Fedt.mean(dim='T')[nz:], Z[nz:], label=r\"$\\partial_t Z2Fe$\")\n",
    "\n",
    "ax6.plot(ddfFeTdz.mean(dim='T')[nz:], Z[nz:], label=r\"$\\partial_z {Fd_{FeT}}$\")\n",
    "ax6.plot(ddfDOFedz.mean(dim='T')[nz:], Z[nz:], label=r\"$\\partial_z {Fd_{DOFe}}$\")\n",
    "ax6.plot(ddfPOFedz.mean(dim='T')[nz:], Z[nz:], label=r\"$\\partial_z {Fd_{POFe}}$\")\n",
    "ax6.plot(ddfZ1Fedz.mean(dim='T')[nz:], Z[nz:], label=r\"$\\partial_z {Fd_{Z1Fe}}$\")\n",
    "ax6.plot(ddfZ2Fedz.mean(dim='T')[nz:], Z[nz:], label=r\"$\\partial_z {Fd_{Z2Fe}}$\")\n",
    "\n",
    "ax1.set_xlim([-5e-6, 6.05e-4])\n",
    "ax2.set_xlim([-5e-6, 6.05e-4])\n",
    "ax3.set_xlim([-3e-13, 3e-13])\n",
    "ax4.set_xlim([-3e-13, 3e-13])\n",
    "ax5.set_xlim([-7e-12, 7e-12])\n",
    "ax6.set_xlim([-7e-12, 7e-12])\n",
    "# ax6.set_xticks([-1e-12,-1e-13,0,1e-13,1e-12])\n",
    "# ax6.set_xticklabels(['-1e-12','-1e-13','0','1e-13','1e-12'])\n",
    "# ax5.set_xlim([-1e-4, 1e-4])\n",
    "# ax6.set_xlim([-1e-4, 1e-4])\n",
    "\n",
    "ax2.set_xlabel(r'[mmol / m$^3$]')\n",
    "ax4.set_xlabel(r'[mmol / (m$^3 \\cdot$s)]')\n",
    "ax6.set_xlabel(r'[mmol / (m$^3 \\cdot$s)]')\n",
    "\n",
    "ax2.legend(bbox_to_anchor=(.98, .01), loc='lower right', borderaxespad=0., fontsize=14)\n",
    "ax4.legend(bbox_to_anchor=(.02, .01), loc='lower left', borderaxespad=0., fontsize=14)\n",
    "ax6.legend(bbox_to_anchor=(.02, .01), loc='lower left', borderaxespad=0., fontsize=14)\n",
    "# ax6.legend(bbox_to_anchor=(.01, .01), loc='lower left', borderaxespad=0.)\n",
    "\n",
    "# ax5.set_xscale('symlog', linthreshy=1e-14)\n",
    "# ax6.set_xscale('symlog', linthreshy=1e-14)\n",
    "\n",
    "fig.suptitle(r\"Iron\", y=1.04, fontsize=18)\n",
    "plt.tight_layout()"
   ]
  },
  {
   "cell_type": "code",
   "execution_count": null,
   "metadata": {
    "collapsed": true
   },
   "outputs": [],
   "source": []
  }
 ],
 "metadata": {
  "kernelspec": {
   "display_name": "Python 3 (uptodate)",
   "language": "python",
   "name": "uptodate"
  },
  "language_info": {
   "codemirror_mode": {
    "name": "ipython",
    "version": 3
   },
   "file_extension": ".py",
   "mimetype": "text/x-python",
   "name": "python",
   "nbconvert_exporter": "python",
   "pygments_lexer": "ipython3",
   "version": "3.6.2"
  }
 },
 "nbformat": 4,
 "nbformat_minor": 2
}
